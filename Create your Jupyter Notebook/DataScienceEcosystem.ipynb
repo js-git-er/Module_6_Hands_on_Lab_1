{
 "cells": [
  {
   "cell_type": "markdown",
   "id": "4d3aa44c-8125-4621-8bb7-eabba3b42dcf",
   "metadata": {},
   "source": [
    "# Data Science Tools and Ecosystem"
   ]
  },
  {
   "cell_type": "markdown",
   "id": "1a595e96-4288-4314-b81e-659b9f19894c",
   "metadata": {},
   "source": [
    "In this notebook, Data Science Tools and Ecosystem are summarized."
   ]
  },
  {
   "cell_type": "markdown",
   "id": "32659746-dbc7-41e8-81a7-543ed21ed3b3",
   "metadata": {},
   "source": [
    "Some of the popular languages that Data Scientists use are:\n",
    "1. R\n",
    "2. Python\n",
    "3. Scala"
   ]
  },
  {
   "cell_type": "markdown",
   "id": "02d550d2-d7cf-40de-b0a4-13ca547277bc",
   "metadata": {},
   "source": [
    "Some of the commonly used libraries used by Data Scientists include:\n",
    "1. NumPy\n",
    "2. Pandas\n",
    "3. Matplotlib \n",
    "4. TensorFlow \n",
    "5. Keras"
   ]
  },
  {
   "cell_type": "markdown",
   "id": "af2b3a78-73b1-49ec-b9f4-8eda990ca82c",
   "metadata": {},
   "source": [
    "Data Science Tools  |\n",
    "--------------------|\n",
    "Apache Spark|\n",
    "TensorFlow|\n",
    "Apache Hadoop|\n",
    "Scikit-learn|"
   ]
  },
  {
   "cell_type": "markdown",
   "id": "7d8c44ef-a358-4f0b-b46c-1c00bc75f4f9",
   "metadata": {},
   "source": [
    "### Below are a few examples of evaluating arithmetic expressions in Python."
   ]
  },
  {
   "cell_type": "code",
   "execution_count": 9,
   "id": "cae534f3-bf9e-4e43-97c0-f17bbe5a682d",
   "metadata": {},
   "outputs": [
    {
     "data": {
      "text/plain": [
       "17"
      ]
     },
     "execution_count": 9,
     "metadata": {},
     "output_type": "execute_result"
    }
   ],
   "source": [
    "# This a simple arithmetic expression to multiply then add integers\n",
    "(3*4)+5"
   ]
  },
  {
   "cell_type": "code",
   "execution_count": 11,
   "id": "ac00a34f-ea46-4b8f-95c4-187bb1c92920",
   "metadata": {},
   "outputs": [
    {
     "data": {
      "text/plain": [
       "3.3333333333333335"
      ]
     },
     "execution_count": 11,
     "metadata": {},
     "output_type": "execute_result"
    }
   ],
   "source": [
    "# This will convert 200 minutes to hours by diving by 60\n",
    "200/60"
   ]
  },
  {
   "cell_type": "markdown",
   "id": "63c3d8ec-6f39-43a5-90c5-33535a843147",
   "metadata": {},
   "source": [
    "**Objectives**\n",
    "\n",
    "- Data Science Languages\n",
    "- Common Libraries\n",
    "- Open Source Tools\n",
    "- Examples "
   ]
  },
  {
   "cell_type": "markdown",
   "id": "a8b1cf7a-5bba-4f94-8861-25e9b186829a",
   "metadata": {},
   "source": [
    "## Author\n",
    "Jay Swarna"
   ]
  }
 ],
 "metadata": {
  "kernelspec": {
   "display_name": "Python 3 (ipykernel)",
   "language": "python",
   "name": "python3"
  },
  "language_info": {
   "codemirror_mode": {
    "name": "ipython",
    "version": 3
   },
   "file_extension": ".py",
   "mimetype": "text/x-python",
   "name": "python",
   "nbconvert_exporter": "python",
   "pygments_lexer": "ipython3",
   "version": "3.12.8"
  }
 },
 "nbformat": 4,
 "nbformat_minor": 5
}
